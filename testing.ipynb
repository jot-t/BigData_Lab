{
 "cells": [
  {
   "cell_type": "code",
   "execution_count": 1,
   "id": "7dc6e792",
   "metadata": {},
   "outputs": [
    {
     "name": "stdout",
     "output_type": "stream",
     "text": [
      "Đã gửi dữ liệu của khách hàng: 6380-ARCEH\n",
      "Phản hồi từ server:\n",
      "{'confidence': '69.00%', 'customerID': '6380-ARCEH', 'prediction': 'No'}\n"
     ]
    }
   ],
   "source": [
    "import requests\n",
    "import json\n",
    "import pandas as pd\n",
    "\n",
    "# Lấy một mẫu dữ liệu từ file csv\n",
    "df = pd.read_csv('data/customer_churn.csv')\n",
    "sample_customer = df.iloc[[100]].to_dict(orient='records')[0]\n",
    "\n",
    "# Gửi đến API\n",
    "url = 'http://127.0.0.1:5000/predict'\n",
    "headers = {'Content-Type': 'application/json'}\n",
    "\n",
    "response = requests.post(url, data=json.dumps(sample_customer), headers=headers)\n",
    "\n",
    "print(\"Đã gửi dữ liệu của khách hàng:\", sample_customer['customerID'])\n",
    "print(\"Phản hồi từ server:\")\n",
    "print(response.json())"
   ]
  }
 ],
 "metadata": {
  "kernelspec": {
   "display_name": "Python 3",
   "language": "python",
   "name": "python3"
  },
  "language_info": {
   "codemirror_mode": {
    "name": "ipython",
    "version": 3
   },
   "file_extension": ".py",
   "mimetype": "text/x-python",
   "name": "python",
   "nbconvert_exporter": "python",
   "pygments_lexer": "ipython3",
   "version": "3.11.9"
  }
 },
 "nbformat": 4,
 "nbformat_minor": 5
}
